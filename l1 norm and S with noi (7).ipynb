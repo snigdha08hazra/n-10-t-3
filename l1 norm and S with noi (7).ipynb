{
 "cells": [
  {
   "cell_type": "code",
   "execution_count": 1,
   "id": "7ced57ef",
   "metadata": {},
   "outputs": [],
   "source": [
    "from qiskit.quantum_info import Statevector, Operator\n",
    "from qiskit import QuantumCircuit, Aer, execute\n",
    "import numpy as np\n",
    "import math\n",
    "import matplotlib.pyplot as pl\n",
    "import random"
   ]
  },
  {
   "cell_type": "markdown",
   "id": "3f391b16",
   "metadata": {},
   "source": [
    "To plot coherence l1 norm (l1), relative entropy(S) and success probability(P) as a funciton of number of iteration(noi) taking the Grover's operator as G = DO"
   ]
  },
  {
   "cell_type": "markdown",
   "id": "bb4eb2d5",
   "metadata": {},
   "source": [
    "O = ( I-2|ψ⟩⟨ψ| ) and D = ( 2|ψ1⟩⟨ψ1|-I )"
   ]
  },
  {
   "attachments": {
    "image-3.png": {
     "image/png": "[encoded data removed]"
    },
    "image-4.png": {
     "image/png": "[encoded data removed]"
    },
    "image-5.png": {
     "image/png": "[encoded data removed]"
    },
    "image-6.png": {
     "image/png": "[encoded data removed]"
    },
    "image-7.png": {
     "image/png": "[encoded data removed]"
    },
    "image-8.png": {
     "image/png": "[encoded data removed]"
    },
    "image.png": {
     "image/png": "[encoded data removed]"
    }
   },
   "cell_type": "markdown",
   "id": "318c0daf",
   "metadata": {},
   "source": [
    "l1 norm of coherence is given by![image.png](attachment:image.png)\n",
    "\n",
    "relative entropy is given by![image-8.png](attachment:image-8.png) with \n",
    "\n",
    "![image-3.png](attachment:image-3.png)   ;   ![image-4.png](attachment:image-4.png)   ;   ![image-5.png](attachment:image-5.png)   ;   ![image-6.png](attachment:image-6.png)   \n",
    "Success probability is determined by the formula![image-7.png](attachment:image-7.png)\n",
    "with t = number of target states and j = iteration number"
   ]
  },
  {
   "cell_type": "code",
   "execution_count": 24,
   "id": "3904289c",
   "metadata": {},
   "outputs": [
    {
     "name": "stdout",
     "output_type": "stream",
     "text": [
      "noi =  15\n",
      "Optimal noi =  14\n",
      "target =  [368. 426. 550.]\n",
      "phi =  [3.141592653589793]\n",
      "x =  [(-1+1.2246467991473532e-16j)]\n"
     ]
    }
   ],
   "source": [
    "n = 10     #no. of qubits\n",
    "N = 2**n   #dimension of matrix\n",
    "t = 3      #no. of target states\n",
    "length = list(range(n))\n",
    "noi = 15   #taking same number of iteration for all cases\n",
    "noi_opt = math.floor(math.sqrt(N/t) * np.pi / 4)   #optimal No of iterations\n",
    "print(\"noi = \", noi)\n",
    "print(\"Optimal noi = \",noi_opt)\n",
    "\n",
    "#to set target states by randomly generating them\n",
    "target = np.zeros(t)    #to store target states\n",
    "count = 0\n",
    "flag = 0\n",
    "i = 0\n",
    "while(True):\n",
    "    #to generate a random integer for target position\n",
    "    a = random.randint(0,N-1)\n",
    "    \n",
    "    #checking if that number has already been chosen previously as target state\n",
    "    for j in range(count):\n",
    "        if(target[j] == a):\n",
    "            flag = 1  #value is present in the target array\n",
    "            \n",
    "    #to store new value in target array\n",
    "    if(flag == 0):\n",
    "        #to store in count position of target array\n",
    "        target[count] = a\n",
    "        #updating count (position) value\n",
    "        count += 1\n",
    "        #checking for further iteration of while loop\n",
    "        if(count == t):\n",
    "            break\n",
    "print(\"target = \",target)\n",
    "\n",
    "phi = [np.pi]    #setting at a particular value\n",
    "print(\"phi = \",phi)\n",
    "\n",
    "x = [complex(np.cos(a), np.sin(a)) for a in phi]\n",
    "print(\"x = \",x)\n",
    "\n",
    "#array to store coherence values after each suboperation in every grover's iteration\n",
    "l1 = np.zeros(noi)    #to store l1 norm of coherence values after each iteration\n",
    "S  = np.zeros(noi)    #to store relative entropy values after each iteration\n",
    "P  = np.zeros(noi)    #to store success probability after each iteration\n",
    "x_axis = list(range(noi))    #to store iteration number"
   ]
  },
  {
   "cell_type": "code",
   "execution_count": 25,
   "id": "cb292786",
   "metadata": {
    "scrolled": true
   },
   "outputs": [
    {
     "name": "stdout",
     "output_type": "stream",
     "text": [
      "======================================== FOR ϕ =  180.0 ========================================\n"
     ]
    },
    {
     "data": {
      "text/plain": [
       "'initialised |ψ0⟩'"
      ]
     },
     "metadata": {},
     "output_type": "display_data"
    },
    {
     "data": {
      "text/latex": [
       "$$ |0000000000\\rangle$$"
      ],
      "text/plain": [
       "<IPython.core.display.Latex object>"
      ]
     },
     "metadata": {},
     "output_type": "display_data"
    },
    {
     "name": "stdout",
     "output_type": "stream",
     "text": [
      "coherence of |ψ0⟩ =  0.0\n"
     ]
    },
    {
     "data": {
      "text/plain": [
       "'applied Hadamard to all |ψ1⟩'"
      ]
     },
     "metadata": {},
     "output_type": "display_data"
    },
    {
     "data": {
      "text/latex": [
       "$$\\frac{1}{32} |0000000000\\rangle+\\frac{1}{32} |0000000001\\rangle+\\frac{1}{32} |0000000010\\rangle+\\frac{1}{32} |0000000011\\rangle+\\frac{1}{32} |0000000100\\rangle+\\frac{1}{32} |0000000101\\rangle + \\ldots +\\frac{1}{32} |1111111011\\rangle+\\frac{1}{32} |1111111100\\rangle+\\frac{1}{32} |1111111101\\rangle+\\frac{1}{32} |1111111110\\rangle+\\frac{1}{32} |1111111111\\rangle$$"
      ],
      "text/plain": [
       "<IPython.core.display.Latex object>"
      ]
     },
     "metadata": {},
     "output_type": "display_data"
    },
    {
     "name": "stdout",
     "output_type": "stream",
     "text": [
      "coherence of |ψ1⟩ =  1023.0000000000001\n",
      "-------- 1  ITERATION--------\n"
     ]
    },
    {
     "data": {
      "text/plain": [
       "'applied O operator to |ψ2⟩'"
      ]
     },
     "metadata": {},
     "output_type": "display_data"
    },
    {
     "data": {
      "text/latex": [
       "$$\\frac{1}{32} |0000000000\\rangle+\\frac{1}{32} |0000000001\\rangle+\\frac{1}{32} |0000000010\\rangle+\\frac{1}{32} |0000000011\\rangle+\\frac{1}{32} |0000000100\\rangle+\\frac{1}{32} |0000000101\\rangle + \\ldots +\\frac{1}{32} |1111111011\\rangle+\\frac{1}{32} |1111111100\\rangle+\\frac{1}{32} |1111111101\\rangle+\\frac{1}{32} |1111111110\\rangle+\\frac{1}{32} |1111111111\\rangle$$"
      ],
      "text/plain": [
       "<IPython.core.display.Latex object>"
      ]
     },
     "metadata": {},
     "output_type": "display_data"
    },
    {
     "data": {
      "text/plain": [
       "'applied D operator to |ψ2⟩'"
      ]
     },
     "metadata": {},
     "output_type": "display_data"
    },
    {
     "data": {
      "text/latex": [
       "$$0.030883789062 |0000000000\\rangle+0.030883789062 |0000000001\\rangle+0.030883789062 |0000000010\\rangle+0.030883789062 |0000000011\\rangle+0.030883789062 |0000000100\\rangle+0.030883789062 |0000000101\\rangle + \\ldots +0.030883789062 |1111111011\\rangle+0.030883789062 |1111111100\\rangle+0.030883789062 |1111111101\\rangle+0.030883789062 |1111111110\\rangle+0.030883789062 |1111111111\\rangle$$"
      ],
      "text/plain": [
       "<IPython.core.display.Latex object>"
      ]
     },
     "metadata": {},
     "output_type": "display_data"
    },
    {
     "name": "stdout",
     "output_type": "stream",
     "text": [
      "coherence of |ψ2⟩ =  1011.03515625\n",
      "l1 norm =  1011.03515625\n",
      "relative entropy =  9.911772437035863\n",
      "-------- 2  ITERATION--------\n"
     ]
    },
    {
     "data": {
      "text/plain": [
       "'applied O operator to |ψ2⟩'"
      ]
     },
     "metadata": {},
     "output_type": "display_data"
    },
    {
     "data": {
      "text/latex": [
       "$$0.030883789062 |0000000000\\rangle+0.030883789062 |0000000001\\rangle+0.030883789062 |0000000010\\rangle+0.030883789062 |0000000011\\rangle+0.030883789062 |0000000100\\rangle+0.030883789062 |0000000101\\rangle + \\ldots +0.030883789062 |1111111011\\rangle+0.030883789062 |1111111100\\rangle+0.030883789062 |1111111101\\rangle+0.030883789062 |1111111110\\rangle+0.030883789062 |1111111111\\rangle$$"
      ],
      "text/plain": [
       "<IPython.core.display.Latex object>"
      ]
     },
     "metadata": {},
     "output_type": "display_data"
    },
    {
     "data": {
      "text/plain": [
       "'applied D operator to |ψ2⟩'"
      ]
     },
     "metadata": {},
     "output_type": "display_data"
    },
    {
     "data": {
      "text/latex": [
       "$$0.030155658722 |0000000000\\rangle+0.030155658722 |0000000001\\rangle+0.030155658722 |0000000010\\rangle+0.030155658722 |0000000011\\rangle+0.030155658722 |0000000100\\rangle+0.030155658722 |0000000101\\rangle + \\ldots +0.030155658722 |1111111011\\rangle+0.030155658722 |1111111100\\rangle+0.030155658722 |1111111101\\rangle+0.030155658722 |1111111110\\rangle+0.030155658722 |1111111111\\rangle$$"
      ],
      "text/plain": [
       "<IPython.core.display.Latex object>"
      ]
     },
     "metadata": {},
     "output_type": "display_data"
    },
    {
     "name": "stdout",
     "output_type": "stream",
     "text": [
      "coherence of |ψ2⟩ =  975.6998339295388\n",
      "l1 norm =  975.6998339295388\n",
      "relative entropy =  9.725167863277445\n",
      "-------- 3  ITERATION--------\n"
     ]
    },
    {
     "data": {
      "text/plain": [
       "'applied O operator to |ψ2⟩'"
      ]
     },
     "metadata": {},
     "output_type": "display_data"
    },
    {
     "data": {
      "text/latex": [
       "$$0.030155658722 |0000000000\\rangle+0.030155658722 |0000000001\\rangle+0.030155658722 |0000000010\\rangle+0.030155658722 |0000000011\\rangle+0.030155658722 |0000000100\\rangle+0.030155658722 |0000000101\\rangle + \\ldots +0.030155658722 |1111111011\\rangle+0.030155658722 |1111111100\\rangle+0.030155658722 |1111111101\\rangle+0.030155658722 |1111111110\\rangle+0.030155658722 |1111111111\\rangle$$"
      ],
      "text/plain": [
       "<IPython.core.display.Latex object>"
      ]
     },
     "metadata": {},
     "output_type": "display_data"
    },
    {
     "data": {
      "text/plain": [
       "'applied D operator to |ψ2⟩'"
      ]
     },
     "metadata": {},
     "output_type": "display_data"
    },
    {
     "data": {
      "text/latex": [
       "$$0.029074141756 |0000000000\\rangle+0.029074141756 |0000000001\\rangle+0.029074141756 |0000000010\\rangle+0.029074141756 |0000000011\\rangle+0.029074141756 |0000000100\\rangle+0.029074141756 |0000000101\\rangle + \\ldots +0.029074141756 |1111111011\\rangle+0.029074141756 |1111111100\\rangle+0.029074141756 |1111111101\\rangle+0.029074141756 |1111111110\\rangle+0.029074141756 |1111111111\\rangle$$"
      ],
      "text/plain": [
       "<IPython.core.display.Latex object>"
      ]
     },
     "metadata": {},
     "output_type": "display_data"
    },
    {
     "name": "stdout",
     "output_type": "stream",
     "text": [
      "coherence of |ψ2⟩ =  918.6455237000959\n",
      "l1 norm =  918.6455237000959\n",
      "relative entropy =  9.420143598583884\n",
      "-------- 4  ITERATION--------\n"
     ]
    },
    {
     "data": {
      "text/plain": [
       "'applied O operator to |ψ2⟩'"
      ]
     },
     "metadata": {},
     "output_type": "display_data"
    },
    {
     "data": {
      "text/latex": [
       "$$0.029074141756 |0000000000\\rangle+0.029074141756 |0000000001\\rangle+0.029074141756 |0000000010\\rangle+0.029074141756 |0000000011\\rangle+0.029074141756 |0000000100\\rangle+0.029074141756 |0000000101\\rangle + \\ldots +0.029074141756 |1111111011\\rangle+0.029074141756 |1111111100\\rangle+0.029074141756 |1111111101\\rangle+0.029074141756 |1111111110\\rangle+0.029074141756 |1111111111\\rangle$$"
      ],
      "text/plain": [
       "<IPython.core.display.Latex object>"
      ]
     },
     "metadata": {},
     "output_type": "display_data"
    },
    {
     "data": {
      "text/plain": [
       "'applied D operator to |ψ2⟩'"
      ]
     },
     "metadata": {},
     "output_type": "display_data"
    },
    {
     "data": {
      "text/latex": [
       "$$0.027651912191 |0000000000\\rangle+0.027651912191 |0000000001\\rangle+0.027651912191 |0000000010\\rangle+0.027651912191 |0000000011\\rangle+0.027651912191 |0000000100\\rangle+0.027651912191 |0000000101\\rangle + \\ldots +0.027651912191 |1111111011\\rangle+0.027651912191 |1111111100\\rangle+0.027651912191 |1111111101\\rangle+0.027651912191 |1111111110\\rangle+0.027651912191 |1111111111\\rangle$$"
      ],
      "text/plain": [
       "<IPython.core.display.Latex object>"
      ]
     },
     "metadata": {},
     "output_type": "display_data"
    },
    {
     "name": "stdout",
     "output_type": "stream",
     "text": [
      "coherence of |ψ2⟩ =  842.5388111378992\n",
      "l1 norm =  842.5388111378992\n",
      "relative entropy =  8.999989269799075\n",
      "-------- 5  ITERATION--------\n"
     ]
    },
    {
     "data": {
      "text/plain": [
       "'applied O operator to |ψ2⟩'"
      ]
     },
     "metadata": {},
     "output_type": "display_data"
    },
    {
     "data": {
      "text/latex": [
       "$$0.027651912191 |0000000000\\rangle+0.027651912191 |0000000001\\rangle+0.027651912191 |0000000010\\rangle+0.027651912191 |0000000011\\rangle+0.027651912191 |0000000100\\rangle+0.027651912191 |0000000101\\rangle + \\ldots +0.027651912191 |1111111011\\rangle+0.027651912191 |1111111100\\rangle+0.027651912191 |1111111101\\rangle+0.027651912191 |1111111110\\rangle+0.027651912191 |1111111111\\rangle$$"
      ],
      "text/plain": [
       "<IPython.core.display.Latex object>"
      ]
     },
     "metadata": {},
     "output_type": "display_data"
    },
    {
     "data": {
      "text/plain": [
       "'applied D operator to |ψ2⟩'"
      ]
     },
     "metadata": {},
     "output_type": "display_data"
    },
    {
     "data": {
      "text/latex": [
       "$$0.02590563678 |0000000000\\rangle+0.02590563678 |0000000001\\rangle+0.02590563678 |0000000010\\rangle+0.02590563678 |0000000011\\rangle+0.02590563678 |0000000100\\rangle+0.02590563678 |0000000101\\rangle + \\ldots +0.02590563678 |1111111011\\rangle+0.02590563678 |1111111100\\rangle+0.02590563678 |1111111101\\rangle+0.02590563678 |1111111110\\rangle+0.02590563678 |1111111111\\rangle$$"
      ],
      "text/plain": [
       "<IPython.core.display.Latex object>"
      ]
     },
     "metadata": {},
     "output_type": "display_data"
    },
    {
     "name": "stdout",
     "output_type": "stream",
     "text": [
      "coherence of |ψ2⟩ =  750.9367467566482\n",
      "l1 norm =  750.9367467566482\n",
      "relative entropy =  8.476709363823465\n",
      "-------- 6  ITERATION--------\n"
     ]
    },
    {
     "data": {
      "text/plain": [
       "'applied O operator to |ψ2⟩'"
      ]
     },
     "metadata": {},
     "output_type": "display_data"
    },
    {
     "data": {
      "text/latex": [
       "$$0.02590563678 |0000000000\\rangle+0.02590563678 |0000000001\\rangle+0.02590563678 |0000000010\\rangle+0.02590563678 |0000000011\\rangle+0.02590563678 |0000000100\\rangle+0.02590563678 |0000000101\\rangle + \\ldots +0.02590563678 |1111111011\\rangle+0.02590563678 |1111111100\\rangle+0.02590563678 |1111111101\\rangle+0.02590563678 |1111111110\\rangle+0.02590563678 |1111111111\\rangle$$"
      ],
      "text/plain": [
       "<IPython.core.display.Latex object>"
      ]
     },
     "metadata": {},
     "output_type": "display_data"
    },
    {
     "data": {
      "text/plain": [
       "'applied D operator to |ψ2⟩'"
      ]
     },
     "metadata": {},
     "output_type": "display_data"
    },
    {
     "data": {
      "text/latex": [
       "$$0.023855779688 |0000000000\\rangle+0.023855779688 |0000000001\\rangle+0.023855779688 |0000000010\\rangle+0.023855779688 |0000000011\\rangle+0.023855779688 |0000000100\\rangle+0.023855779688 |0000000101\\rangle + \\ldots +0.023855779688 |1111111011\\rangle+0.023855779688 |1111111100\\rangle+0.023855779688 |1111111101\\rangle+0.023855779688 |1111111110\\rangle+0.023855779688 |1111111111\\rangle$$"
      ],
      "text/plain": [
       "<IPython.core.display.Latex object>"
      ]
     },
     "metadata": {},
     "output_type": "display_data"
    },
    {
     "name": "stdout",
     "output_type": "stream",
     "text": [
      "coherence of |ψ2⟩ =  648.1205976454697\n",
      "l1 norm =  648.1205976454697\n",
      "relative entropy =  7.869500548351994\n",
      "-------- 7  ITERATION--------\n"
     ]
    },
    {
     "data": {
      "text/plain": [
       "'applied O operator to |ψ2⟩'"
      ]
     },
     "metadata": {},
     "output_type": "display_data"
    },
    {
     "data": {
      "text/latex": [
       "$$0.023855779688 |0000000000\\rangle+0.023855779688 |0000000001\\rangle+0.023855779688 |0000000010\\rangle+0.023855779688 |0000000011\\rangle+0.023855779688 |0000000100\\rangle+0.023855779688 |0000000101\\rangle + \\ldots +0.023855779688 |1111111011\\rangle+0.023855779688 |1111111100\\rangle+0.023855779688 |1111111101\\rangle+0.023855779688 |1111111110\\rangle+0.023855779688 |1111111111\\rangle$$"
      ],
      "text/plain": [
       "<IPython.core.display.Latex object>"
      ]
     },
     "metadata": {},
     "output_type": "display_data"
    },
    {
     "data": {
      "text/plain": [
       "'applied D operator to |ψ2⟩'"
      ]
     },
     "metadata": {},
     "output_type": "display_data"
    },
    {
     "data": {
      "text/latex": [
       "$$0.021526362678 |0000000000\\rangle+0.021526362678 |0000000001\\rangle+0.021526362678 |0000000010\\rangle+0.021526362678 |0000000011\\rangle+0.021526362678 |0000000100\\rangle+0.021526362678 |0000000101\\rangle + \\ldots +0.021526362678 |1111111011\\rangle+0.021526362678 |1111111100\\rangle+0.021526362678 |1111111101\\rangle+0.021526362678 |1111111110\\rangle+0.021526362678 |1111111111\\rangle$$"
      ],
      "text/plain": [
       "<IPython.core.display.Latex object>"
      ]
     },
     "metadata": {},
     "output_type": "display_data"
    },
    {
     "name": "stdout",
     "output_type": "stream",
     "text": [
      "coherence of |ψ2⟩ =  538.8957511631892\n",
      "l1 norm =  538.8957511631892\n",
      "relative entropy =  7.203537302955573\n",
      "-------- 8  ITERATION--------\n"
     ]
    },
    {
     "data": {
      "text/plain": [
       "'applied O operator to |ψ2⟩'"
      ]
     },
     "metadata": {},
     "output_type": "display_data"
    },
    {
     "data": {
      "text/latex": [
       "$$0.021526362678 |0000000000\\rangle+0.021526362678 |0000000001\\rangle+0.021526362678 |0000000010\\rangle+0.021526362678 |0000000011\\rangle+0.021526362678 |0000000100\\rangle+0.021526362678 |0000000101\\rangle + \\ldots +0.021526362678 |1111111011\\rangle+0.021526362678 |1111111100\\rangle+0.021526362678 |1111111101\\rangle+0.021526362678 |1111111110\\rangle+0.021526362678 |1111111111\\rangle$$"
      ],
      "text/plain": [
       "<IPython.core.display.Latex object>"
      ]
     },
     "metadata": {},
     "output_type": "display_data"
    },
    {
     "data": {
      "text/plain": [
       "'applied D operator to |ψ2⟩'"
      ]
     },
     "metadata": {},
     "output_type": "display_data"
    },
    {
     "data": {
      "text/latex": [
       "$$0.018944683605 |0000000000\\rangle+0.018944683605 |0000000001\\rangle+0.018944683605 |0000000010\\rangle+0.018944683605 |0000000011\\rangle+0.018944683605 |0000000100\\rangle+0.018944683605 |0000000101\\rangle + \\ldots +0.018944683605 |1111111011\\rangle+0.018944683605 |1111111100\\rangle+0.018944683605 |1111111101\\rangle+0.018944683605 |1111111110\\rangle+0.018944683605 |1111111111\\rangle$$"
      ],
      "text/plain": [
       "<IPython.core.display.Latex object>"
      ]
     },
     "metadata": {},
     "output_type": "display_data"
    },
    {
     "name": "stdout",
     "output_type": "stream",
     "text": [
      "coherence of |ψ2⟩ =  428.36712226669266\n",
      "l1 norm =  428.36712226669266\n",
      "relative entropy =  6.508817096187468\n",
      "-------- 9  ITERATION--------\n"
     ]
    },
    {
     "data": {
      "text/plain": [
       "'applied O operator to |ψ2⟩'"
      ]
     },
     "metadata": {},
     "output_type": "display_data"
    },
    {
     "data": {
      "text/latex": [
       "$$0.018944683605 |0000000000\\rangle+0.018944683605 |0000000001\\rangle+0.018944683605 |0000000010\\rangle+0.018944683605 |0000000011\\rangle+0.018944683605 |0000000100\\rangle+0.018944683605 |0000000101\\rangle + \\ldots +0.018944683605 |1111111011\\rangle+0.018944683605 |1111111100\\rangle+0.018944683605 |1111111101\\rangle+0.018944683605 |1111111110\\rangle+0.018944683605 |1111111111\\rangle$$"
      ],
      "text/plain": [
       "<IPython.core.display.Latex object>"
      ]
     },
     "metadata": {},
     "output_type": "display_data"
    },
    {
     "data": {
      "text/plain": [
       "'applied D operator to |ψ2⟩'"
      ]
     },
     "metadata": {},
     "output_type": "display_data"
    },
    {
     "data": {
      "text/latex": [
       "$$0.016140996521 |0000000000\\rangle+0.016140996521 |0000000001\\rangle+0.016140996521 |0000000010\\rangle+0.016140996521 |0000000011\\rangle+0.016140996521 |0000000100\\rangle+0.016140996521 |0000000101\\rangle + \\ldots +0.016140996521 |1111111011\\rangle+0.016140996521 |1111111100\\rangle+0.016140996521 |1111111101\\rangle+0.016140996521 |1111111110\\rangle+0.016140996521 |1111111111\\rangle$$"
      ],
      "text/plain": [
       "<IPython.core.display.Latex object>"
      ]
     },
     "metadata": {},
     "output_type": "display_data"
    },
    {
     "name": "stdout",
     "output_type": "stream",
     "text": [
      "coherence of |ψ2⟩ =  321.7005615895447\n",
      "l1 norm =  321.7005615895447\n",
      "relative entropy =  5.819027639212724\n",
      "-------- 10  ITERATION--------\n"
     ]
    },
    {
     "data": {
      "text/plain": [
       "'applied O operator to |ψ2⟩'"
      ]
     },
     "metadata": {},
     "output_type": "display_data"
    },
    {
     "data": {
      "text/latex": [
       "$$0.016140996521 |0000000000\\rangle+0.016140996521 |0000000001\\rangle+0.016140996521 |0000000010\\rangle+0.016140996521 |0000000011\\rangle+0.016140996521 |0000000100\\rangle+0.016140996521 |0000000101\\rangle + \\ldots +0.016140996521 |1111111011\\rangle+0.016140996521 |1111111100\\rangle+0.016140996521 |1111111101\\rangle+0.016140996521 |1111111110\\rangle+0.016140996521 |1111111111\\rangle$$"
      ],
      "text/plain": [
       "<IPython.core.display.Latex object>"
      ]
     },
     "metadata": {},
     "output_type": "display_data"
    },
    {
     "data": {
      "text/plain": [
       "'applied D operator to |ψ2⟩'"
      ]
     },
     "metadata": {},
     "output_type": "display_data"
    },
    {
     "data": {
      "text/latex": [
       "$$0.013148157135 |0000000000\\rangle+0.013148157135 |0000000001\\rangle+0.013148157135 |0000000010\\rangle+0.013148157135 |0000000011\\rangle+0.013148157135 |0000000100\\rangle+0.013148157135 |0000000101\\rangle + \\ldots +0.013148157135 |1111111011\\rangle+0.013148157135 |1111111100\\rangle+0.013148157135 |1111111101\\rangle+0.013148157135 |1111111110\\rangle+0.013148157135 |1111111111\\rangle$$"
      ],
      "text/plain": [
       "<IPython.core.display.Latex object>"
      ]
     },
     "metadata": {},
     "output_type": "display_data"
    },
    {
     "name": "stdout",
     "output_type": "stream",
     "text": [
      "coherence of |ψ2⟩ =  223.88141577817677\n",
      "l1 norm =  223.88141577817677\n",
      "relative entropy =  5.170508081817692\n",
      "-------- 11  ITERATION--------\n"
     ]
    },
    {
     "data": {
      "text/plain": [
       "'applied O operator to |ψ2⟩'"
      ]
     },
     "metadata": {},
     "output_type": "display_data"
    },
    {
     "data": {
      "text/latex": [
       "$$0.013148157135 |0000000000\\rangle+0.013148157135 |0000000001\\rangle+0.013148157135 |0000000010\\rangle+0.013148157135 |0000000011\\rangle+0.013148157135 |0000000100\\rangle+0.013148157135 |0000000101\\rangle + \\ldots +0.013148157135 |1111111011\\rangle+0.013148157135 |1111111100\\rangle+0.013148157135 |1111111101\\rangle+0.013148157135 |1111111110\\rangle+0.013148157135 |1111111111\\rangle$$"
      ],
      "text/plain": [
       "<IPython.core.display.Latex object>"
      ]
     },
     "metadata": {},
     "output_type": "display_data"
    },
    {
     "data": {
      "text/plain": [
       "'applied D operator to |ψ2⟩'"
      ]
     },
     "metadata": {},
     "output_type": "display_data"
    },
    {
     "data": {
      "text/latex": [
       "$$0.010001237781 |0000000000\\rangle+0.010001237781 |0000000001\\rangle+0.010001237781 |0000000010\\rangle+0.010001237781 |0000000011\\rangle+0.010001237781 |0000000100\\rangle+0.010001237781 |0000000101\\rangle + \\ldots +0.010001237781 |1111111011\\rangle+0.010001237781 |1111111100\\rangle+0.010001237781 |1111111101\\rangle+0.010001237781 |1111111110\\rangle+0.010001237781 |1111111111\\rangle$$"
      ],
      "text/plain": [
       "<IPython.core.display.Latex object>"
      ]
     },
     "metadata": {},
     "output_type": "display_data"
    },
    {
     "name": "stdout",
     "output_type": "stream",
     "text": [
      "coherence of |ψ2⟩ =  139.48152386871328\n",
      "l1 norm =  139.48152386871328\n",
      "relative entropy =  4.601494293466349\n",
      "-------- 12  ITERATION--------\n"
     ]
    },
    {
     "data": {
      "text/plain": [
       "'applied O operator to |ψ2⟩'"
      ]
     },
     "metadata": {},
     "output_type": "display_data"
    },
    {
     "data": {
      "text/latex": [
       "$$0.010001237781 |0000000000\\rangle+0.010001237781 |0000000001\\rangle+0.010001237781 |0000000010\\rangle+0.010001237781 |0000000011\\rangle+0.010001237781 |0000000100\\rangle+0.010001237781 |0000000101\\rangle + \\ldots +0.010001237781 |1111111011\\rangle+0.010001237781 |1111111100\\rangle+0.010001237781 |1111111101\\rangle+0.010001237781 |1111111110\\rangle+0.010001237781 |1111111111\\rangle$$"
      ],
      "text/plain": [
       "<IPython.core.display.Latex object>"
      ]
     },
     "metadata": {},
     "output_type": "display_data"
    },
    {
     "data": {
      "text/plain": [
       "'applied D operator to |ψ2⟩'"
      ]
     },
     "metadata": {},
     "output_type": "display_data"
    },
    {
     "data": {
      "text/latex": [
       "$$\\frac{40353607 \\cdot \\sqrt[7]{2} \\sqrt{3} \\cdot 5^{\\frac{27}{56}} \\cdot 7^{\\frac{15}{28}}}{16200000000 \\pi^{\\frac{9}{7}}} |0000000000\\rangle+\\frac{40353607 \\cdot \\sqrt[7]{2} \\sqrt{3} \\cdot 5^{\\frac{27}{56}} \\cdot 7^{\\frac{15}{28}}}{16200000000 \\pi^{\\frac{9}{7}}} |0000000001\\rangle+\\frac{40353607 \\cdot \\sqrt[7]{2} \\sqrt{3} \\cdot 5^{\\frac{27}{56}} \\cdot 7^{\\frac{15}{28}}}{16200000000 \\pi^{\\frac{9}{7}}} |0000000010\\rangle+\\frac{40353607 \\cdot \\sqrt[7]{2} \\sqrt{3} \\cdot 5^{\\frac{27}{56}} \\cdot 7^{\\frac{15}{28}}}{16200000000 \\pi^{\\frac{9}{7}}} |0000000011\\rangle+\\frac{40353607 \\cdot \\sqrt[7]{2} \\sqrt{3} \\cdot 5^{\\frac{27}{56}} \\cdot 7^{\\frac{15}{28}}}{16200000000 \\pi^{\\frac{9}{7}}} |0000000100\\rangle+\\frac{40353607 \\cdot \\sqrt[7]{2} \\sqrt{3} \\cdot 5^{\\frac{27}{56}} \\cdot 7^{\\frac{15}{28}}}{16200000000 \\pi^{\\frac{9}{7}}} |0000000101\\rangle + \\ldots +\\frac{40353607 \\cdot \\sqrt[7]{2} \\sqrt{3} \\cdot 5^{\\frac{27}{56}} \\cdot 7^{\\frac{15}{28}}}{16200000000 \\pi^{\\frac{9}{7}}} |1111111011\\rangle+\\frac{40353607 \\cdot \\sqrt[7]{2} \\sqrt{3} \\cdot 5^{\\frac{27}{56}} \\cdot 7^{\\frac{15}{28}}}{16200000000 \\pi^{\\frac{9}{7}}} |1111111100\\rangle+\\frac{40353607 \\cdot \\sqrt[7]{2} \\sqrt{3} \\cdot 5^{\\frac{27}{56}} \\cdot 7^{\\frac{15}{28}}}{16200000000 \\pi^{\\frac{9}{7}}} |1111111101\\rangle+\\frac{40353607 \\cdot \\sqrt[7]{2} \\sqrt{3} \\cdot 5^{\\frac{27}{56}} \\cdot 7^{\\frac{15}{28}}}{16200000000 \\pi^{\\frac{9}{7}}} |1111111110\\rangle+\\frac{40353607 \\cdot \\sqrt[7]{2} \\sqrt{3} \\cdot 5^{\\frac{27}{56}} \\cdot 7^{\\frac{15}{28}}}{16200000000 \\pi^{\\frac{9}{7}}} |1111111111\\rangle$$"
      ],
      "text/plain": [
       "<IPython.core.display.Latex object>"
      ]
     },
     "metadata": {},
     "output_type": "display_data"
    },
    {
     "name": "stdout",
     "output_type": "stream",
     "text": [
      "coherence of |ψ2⟩ =  72.44554022392184\n",
      "l1 norm =  72.44554022392184\n",
      "relative entropy =  4.152108949941776\n",
      "-------- 13  ITERATION--------\n"
     ]
    },
    {
     "data": {
      "text/plain": [
       "'applied O operator to |ψ2⟩'"
      ]
     },
     "metadata": {},
     "output_type": "display_data"
    },
    {
     "data": {
      "text/latex": [
       "$$\\frac{40353607 \\cdot \\sqrt[7]{2} \\sqrt{3} \\cdot 5^{\\frac{27}{56}} \\cdot 7^{\\frac{15}{28}}}{16200000000 \\pi^{\\frac{9}{7}}} |0000000000\\rangle+\\frac{40353607 \\cdot \\sqrt[7]{2} \\sqrt{3} \\cdot 5^{\\frac{27}{56}} \\cdot 7^{\\frac{15}{28}}}{16200000000 \\pi^{\\frac{9}{7}}} |0000000001\\rangle+\\frac{40353607 \\cdot \\sqrt[7]{2} \\sqrt{3} \\cdot 5^{\\frac{27}{56}} \\cdot 7^{\\frac{15}{28}}}{16200000000 \\pi^{\\frac{9}{7}}} |0000000010\\rangle+\\frac{40353607 \\cdot \\sqrt[7]{2} \\sqrt{3} \\cdot 5^{\\frac{27}{56}} \\cdot 7^{\\frac{15}{28}}}{16200000000 \\pi^{\\frac{9}{7}}} |0000000011\\rangle+\\frac{40353607 \\cdot \\sqrt[7]{2} \\sqrt{3} \\cdot 5^{\\frac{27}{56}} \\cdot 7^{\\frac{15}{28}}}{16200000000 \\pi^{\\frac{9}{7}}} |0000000100\\rangle+\\frac{40353607 \\cdot \\sqrt[7]{2} \\sqrt{3} \\cdot 5^{\\frac{27}{56}} \\cdot 7^{\\frac{15}{28}}}{16200000000 \\pi^{\\frac{9}{7}}} |0000000101\\rangle + \\ldots +\\frac{40353607 \\cdot \\sqrt[7]{2} \\sqrt{3} \\cdot 5^{\\frac{27}{56}} \\cdot 7^{\\frac{15}{28}}}{16200000000 \\pi^{\\frac{9}{7}}} |1111111011\\rangle+\\frac{40353607 \\cdot \\sqrt[7]{2} \\sqrt{3} \\cdot 5^{\\frac{27}{56}} \\cdot 7^{\\frac{15}{28}}}{16200000000 \\pi^{\\frac{9}{7}}} |1111111100\\rangle+\\frac{40353607 \\cdot \\sqrt[7]{2} \\sqrt{3} \\cdot 5^{\\frac{27}{56}} \\cdot 7^{\\frac{15}{28}}}{16200000000 \\pi^{\\frac{9}{7}}} |1111111101\\rangle+\\frac{40353607 \\cdot \\sqrt[7]{2} \\sqrt{3} \\cdot 5^{\\frac{27}{56}} \\cdot 7^{\\frac{15}{28}}}{16200000000 \\pi^{\\frac{9}{7}}} |1111111110\\rangle+\\frac{40353607 \\cdot \\sqrt[7]{2} \\sqrt{3} \\cdot 5^{\\frac{27}{56}} \\cdot 7^{\\frac{15}{28}}}{16200000000 \\pi^{\\frac{9}{7}}} |1111111111\\rangle$$"
      ],
      "text/plain": [
       "<IPython.core.display.Latex object>"
      ]
     },
     "metadata": {},
     "output_type": "display_data"
    },
    {
     "data": {
      "text/plain": [
       "'applied D operator to |ψ2⟩'"
      ]
     },
     "metadata": {},
     "output_type": "display_data"
    },
    {
     "data": {
      "text/latex": [
       "$$0.003394044481 |0000000000\\rangle+0.003394044481 |0000000001\\rangle+0.003394044481 |0000000010\\rangle+0.003394044481 |0000000011\\rangle+0.003394044481 |0000000100\\rangle+0.003394044481 |0000000101\\rangle + \\ldots +0.003394044481 |1111111011\\rangle+0.003394044481 |1111111100\\rangle+0.003394044481 |1111111101\\rangle+0.003394044481 |1111111110\\rangle+0.003394044481 |1111111111\\rangle$$"
      ],
      "text/plain": [
       "<IPython.core.display.Latex object>"
      ]
     },
     "metadata": {},
     "output_type": "display_data"
    },
    {
     "name": "stdout",
     "output_type": "stream",
     "text": [
      "coherence of |ψ2⟩ =  25.906570593569835\n",
      "l1 norm =  25.906570593569835\n",
      "relative entropy =  3.866571298055552\n",
      "-------- 14  ITERATION--------\n"
     ]
    },
    {
     "data": {
      "text/plain": [
       "'applied O operator to |ψ2⟩'"
      ]
     },
     "metadata": {},
     "output_type": "display_data"
    },
    {
     "data": {
      "text/latex": [
       "$$0.003394044481 |0000000000\\rangle+0.003394044481 |0000000001\\rangle+0.003394044481 |0000000010\\rangle+0.003394044481 |0000000011\\rangle+0.003394044481 |0000000100\\rangle+0.003394044481 |0000000101\\rangle + \\ldots +0.003394044481 |1111111011\\rangle+0.003394044481 |1111111100\\rangle+0.003394044481 |1111111101\\rangle+0.003394044481 |1111111110\\rangle+0.003394044481 |1111111111\\rangle$$"
      ],
      "text/plain": [
       "<IPython.core.display.Latex object>"
      ]
     },
     "metadata": {},
     "output_type": "display_data"
    },
    {
     "data": {
      "text/plain": [
       "'applied D operator to |ψ2⟩'"
      ]
     },
     "metadata": {},
     "output_type": "display_data"
    },
    {
     "data": {
      "text/latex": [
       "$$1.1198581 \\cdot 10^{-5} |0000000000\\rangle+1.1198581 \\cdot 10^{-5} |0000000001\\rangle+1.1198581 \\cdot 10^{-5} |0000000010\\rangle+1.1198581 \\cdot 10^{-5} |0000000011\\rangle+1.1198581 \\cdot 10^{-5} |0000000100\\rangle+1.1198581 \\cdot 10^{-5} |0000000101\\rangle + \\ldots +1.1198581 \\cdot 10^{-5} |1111111011\\rangle+1.1198581 \\cdot 10^{-5} |1111111100\\rangle+1.1198581 \\cdot 10^{-5} |1111111101\\rangle+1.1198581 \\cdot 10^{-5} |1111111110\\rangle+1.1198581 \\cdot 10^{-5} |1111111111\\rangle$$"
      ],
      "text/plain": [
       "<IPython.core.display.Latex object>"
      ]
     },
     "metadata": {},
     "output_type": "display_data"
    },
    {
     "name": "stdout",
     "output_type": "stream",
     "text": [
      "coherence of |ψ2⟩ =  2.039738020471708\n",
      "l1 norm =  2.039738020471708\n",
      "relative entropy =  3.807358828915059\n",
      "-------- 15  ITERATION--------\n"
     ]
    },
    {
     "data": {
      "text/plain": [
       "'applied O operator to |ψ2⟩'"
      ]
     },
     "metadata": {},
     "output_type": "display_data"
    },
    {
     "data": {
      "text/latex": [
       "$$1.1198581 \\cdot 10^{-5} |0000000000\\rangle+1.1198581 \\cdot 10^{-5} |0000000001\\rangle+1.1198581 \\cdot 10^{-5} |0000000010\\rangle+1.1198581 \\cdot 10^{-5} |0000000011\\rangle+1.1198581 \\cdot 10^{-5} |0000000100\\rangle+1.1198581 \\cdot 10^{-5} |0000000101\\rangle + \\ldots +1.1198581 \\cdot 10^{-5} |1111111011\\rangle+1.1198581 \\cdot 10^{-5} |1111111100\\rangle+1.1198581 \\cdot 10^{-5} |1111111101\\rangle+1.1198581 \\cdot 10^{-5} |1111111110\\rangle+1.1198581 \\cdot 10^{-5} |1111111111\\rangle$$"
      ],
      "text/plain": [
       "<IPython.core.display.Latex object>"
      ]
     },
     "metadata": {},
     "output_type": "display_data"
    },
    {
     "data": {
      "text/plain": [
       "'applied D operator to |ψ2⟩'"
      ]
     },
     "metadata": {},
     "output_type": "display_data"
    },
    {
     "data": {
      "text/latex": [
       "$$-0.003371778552 |0000000000\\rangle-0.003371778552 |0000000001\\rangle-0.003371778552 |0000000010\\rangle-0.003371778552 |0000000011\\rangle-0.003371778552 |0000000100\\rangle-0.003371778552 |0000000101\\rangle + \\ldots -0.003371778552 |1111111011\\rangle-0.003371778552 |1111111100\\rangle-0.003371778552 |1111111101\\rangle-0.003371778552 |1111111110\\rangle-0.003371778552 |1111111111\\rangle$$"
      ],
      "text/plain": [
       "<IPython.core.display.Latex object>"
      ]
     },
     "metadata": {},
     "output_type": "display_data"
    },
    {
     "name": "stdout",
     "output_type": "stream",
     "text": [
      "coherence of |ψ2⟩ =  25.672626890556632\n",
      "l1 norm =  25.672626890556632\n",
      "relative entropy =  4.068641756519823\n"
     ]
    }
   ],
   "source": [
    "def iteration(i,a):\n",
    "    qc.barrier()\n",
    "    #count = i*2\n",
    "    copy_i = i    #storing copy of iteration number\n",
    "    copy_a = a    #storing copy of phi value\n",
    "    \n",
    "    #applying O operator\n",
    "    qc.append(O_operator,length)\n",
    "    result = execute(qc, backend).result()\n",
    "    state = result.get_statevector()\n",
    "    display(\"applied O operator to |ψ2⟩\", state.draw('latex'))\n",
    "    \n",
    "    #Applying D operator\n",
    "    qc.append(D_operator,length)\n",
    "    result = execute(qc, backend).result()\n",
    "    state = result.get_statevector()\n",
    "    display(\"applied D operator to |ψ2⟩\", state.draw('latex'))\n",
    "    density_operator = state.to_operator()\n",
    "    \n",
    "    #calculating coherence by l1 norm\n",
    "    coherence = 0\n",
    "    for i in range(N):\n",
    "        for j in range(N):\n",
    "            if(i != j):\n",
    "                coherence += abs(density_operator.data[i,j])\n",
    "    print(\"coherence of |ψ2⟩ = \",coherence)\n",
    "    l1[copy_i] = coherence\n",
    "    print(\"l1 norm = \",coherence)\n",
    "    \n",
    "    #calculating coherence by relative entropy\n",
    "    j = copy_i+1   #to store the actual iteration number \n",
    "    alpha = 2*np.arctan(np.sqrt(t/(N-t)))\n",
    "    alpha_j = (j+1/2.0)*alpha    \n",
    "    a = np.sin(alpha_j)\n",
    "    a_2 = a**2\n",
    "    H = -(a_2*math.log2(a_2)+(1-a_2)*math.log2(1-a_2))\n",
    "    Cr = H+math.log2(N-j)+a_2*math.log2(j/(N-j))\n",
    "    S[copy_i] = Cr\n",
    "    print(\"relative entropy = \",Cr)\n",
    "    \n",
    "    #calculating success probability\n",
    "    P[copy_i] = np.sin(alpha_j)**2\n",
    "    \n",
    "for a in range(len(phi)):\n",
    "    print(\"======================================== FOR ϕ = \", phi[a]*180/np.pi,\"========================================\")\n",
    "    qc = QuantumCircuit(n)\n",
    "    backend = Aer.get_backend('statevector_simulator')\n",
    "    result = execute(qc, backend).result()\n",
    "    state = result.get_statevector()\n",
    "    display(\"initialised |ψ0⟩\", state.draw('latex'))\n",
    "    density_operator = state.to_operator()\n",
    "    #print(density_operator.data)\n",
    "    coherence = 0\n",
    "    for i in range(N):\n",
    "        for j in range(N):\n",
    "            if(i != j):\n",
    "                coherence += abs(density_operator.data[i,j])\n",
    "    print(\"coherence of |ψ0⟩ = \",coherence)\n",
    "\n",
    "    qc.h(length)\n",
    "    result = execute(qc, backend).result()\n",
    "    state = result.get_statevector()\n",
    "    display(\"applied Hadamard to all |ψ1⟩\", state.draw('latex'))\n",
    "    density_operator = state.to_operator()\n",
    "    #print(density_operator.data)\n",
    "    coherence = 0\n",
    "    for i in range(N):\n",
    "        for j in range(N):\n",
    "            if(i != j):\n",
    "                coherence += abs(density_operator.data[i,j])\n",
    "    print(\"coherence of |ψ1⟩ = \",coherence)\n",
    "\n",
    "    #defining generalised O Operator\n",
    "    count = 0\n",
    "    choice = a\n",
    "    O_operator = Operator(np.zeros((N,N)))\n",
    "    for i in range(N):\n",
    "        for j in range(N):\n",
    "            if(i != j):   #off diagonal elements\n",
    "                O_operator.data[i][j] = 0\n",
    "            else:    #diagonal elements\n",
    "                flag = 0\n",
    "                for k in range(t):\n",
    "                    if(i == target[k]):\n",
    "                        O_operator.data[i][j] = x[choice]\n",
    "                        count += 1\n",
    "                        flag = 1\n",
    "                        break\n",
    "                if(flag == 0):\n",
    "                    O_operator.data[i][j] = 1            \n",
    "   \n",
    "    #defining D operator\n",
    "    D_operator = Operator(np.zeros((N,N)))\n",
    "    for i in range(N):\n",
    "        for j in range(N):\n",
    "            if(i == j):    #for diagonal elements\n",
    "                D_operator.data[i][j] = 2*density_operator.data[i][j]-1\n",
    "            else:          #for off-diagonal elements\n",
    "                D_operator.data[i][j] = 2*density_operator.data[i][j]\n",
    "    \n",
    "    #sending out for x iterations of grover's operator\n",
    "    for i in range(noi):\n",
    "        print(\"--------\",(i+1),\" ITERATION--------\")\n",
    "        iteration(i,a)    #a takes angle phi and i takes noi"
   ]
  },
  {
   "cell_type": "code",
   "execution_count": 26,
   "id": "fd1f8d7d",
   "metadata": {},
   "outputs": [
    {
     "name": "stdout",
     "output_type": "stream",
     "text": [
      "l1 =  [0.9873390197753906, 0.9528318690718153, 0.8971147692383749, 0.8227918077518547, 0.7333366667545392, 0.632930271138154, 0.5262653819953019, 0.41832726783856705, 0.31416070467728974, 0.21863419509587576, 0.13621242565304031, 0.07074759787492367, 0.025299385345283042, 0.0019919316606169025, 0.02507092469780921]\n",
      "S_N =  [0.009679465270542835, 0.00949723424148188, 0.009199358982992074, 0.008789052021288159, 0.008278036488108853, 0.0076850591292499945, 0.007034704397417552, 0.0063562666954955745, 0.005682644178918676, 0.00504932429865009, 0.004493646770963231, 0.004054793896427516, 0.003775948533257375, 0.0037181238563623624, 0.00397328296535139]\n",
      "P =  [0.0261616  0.07153961 0.13694286 0.21931456 0.31480484 0.41895071\n",
      " 0.52688464 0.63356204 0.73399706 0.82349561 0.89787472 0.9536581\n",
      " 0.98823855 0.99999987 0.98839236]\n"
     ]
    },
    {
     "data": {
      "image/png": "[encoded data removed]",
      "text/plain": [
       "<Figure size 640x480 with 2 Axes>"
      ]
     },
     "metadata": {},
     "output_type": "display_data"
    }
   ],
   "source": [
    "l1_N = [a/N for a in l1]\n",
    "S_N  = [a/N for a in S]\n",
    "xa   = [a+1 for a in x_axis]\n",
    "\n",
    "print(\"l1 = \",l1_N)\n",
    "print(\"S_N = \",S_N)\n",
    "print(\"P = \",P)\n",
    "\n",
    "fig, ax1 = pl.subplots()\n",
    "pl.title(\"n = {} and t = {}\".format(n, t))\n",
    "color1 = 'tab:red'\n",
    "color2 = 'black'\n",
    "ax1.set_xlabel('----Number of iterations----')\n",
    "ax1.scatter(xa, l1_N, marker='d', color=color1, label='l1_norm/N')\n",
    "ax1.plot(xa, l1_N, color=color1)\n",
    "ax1.scatter(xa, P, color=color2, label='success probability')\n",
    "ax1.plot(xa, P, color=color2)\n",
    "pl.legend()\n",
    "ax1.set_ylabel(\"l1 norm and success probability\")\n",
    "pl.grid(True)\n",
    "\n",
    "ax2 = ax1.twinx()\n",
    "color = 'tab:blue'\n",
    "ax2.scatter(xa, S_N, color=color, label='S/N')\n",
    "ax2.plot(xa, S_N, color=color)\n",
    "pl.legend()\n",
    "ax2.set_ylabel('relatove entropy', color=color)\n",
    "ax2.tick_params(axis='y', labelcolor=color)\n",
    "\n",
    "fig.tight_layout()\n",
    "#pl.grid(True)\n",
    "pl.show()"
   ]
  },
  {
   "cell_type": "code",
   "execution_count": null,
   "id": "d829f77b",
   "metadata": {},
   "outputs": [],
   "source": []
  }
 ],
 "metadata": {
  "kernelspec": {
   "display_name": "Python 3 (ipykernel)",
   "language": "python",
   "name": "python3"
  },
  "language_info": {
   "codemirror_mode": {
    "name": "ipython",
    "version": 3
   },
   "file_extension": ".py",
   "mimetype": "text/x-python",
   "name": "python",
   "nbconvert_exporter": "python",
   "pygments_lexer": "ipython3",
   "version": "3.9.13"
  }
 },
 "nbformat": 4,
 "nbformat_minor": 5
}
